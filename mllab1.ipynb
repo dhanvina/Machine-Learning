{
  "nbformat": 4,
  "nbformat_minor": 0,
  "metadata": {
    "colab": {
      "provenance": [],
      "authorship_tag": "ABX9TyMsWVmjif8RCK0/zHMH36gG",
      "include_colab_link": true
    },
    "kernelspec": {
      "name": "python3",
      "display_name": "Python 3"
    },
    "language_info": {
      "name": "python"
    }
  },
  "cells": [
    {
      "cell_type": "markdown",
      "metadata": {
        "id": "view-in-github",
        "colab_type": "text"
      },
      "source": [
        "<a href=\"https://colab.research.google.com/github/dhanvina/Machine-Learning/blob/main/mllab1.ipynb\" target=\"_parent\"><img src=\"https://colab.research.google.com/assets/colab-badge.svg\" alt=\"Open In Colab\"/></a>"
      ]
    },
    {
      "cell_type": "code",
      "source": [
        "from sklearn import datasets\n",
        "import pandas as pd\n",
        "data = datasets.load_iris()\n",
        "df = pd.DataFrame(data.data,columns=data.feature_names)\n",
        "df['Class'] = data.target"
      ],
      "metadata": {
        "id": "_RYb5LCNEcZd"
      },
      "execution_count": null,
      "outputs": []
    },
    {
      "cell_type": "code",
      "source": [
        "#program 5\n",
        "from sklearn.ensemble import RandomForestClassifier\n",
        "model = RandomForestClassifier(n_estimators=100)\n",
        "x,y = datasets.load_iris(return_X_y=True)\n",
        "\n",
        "from sklearn.model_selection import train_test_split\n",
        "xtrain,xtest,ytrain,ytest = train_test_split(x,y,test_size=0.3)\n",
        "ypred = model.fit(xtrain,ytrain).predict(xtest)\n",
        "\n",
        "from sklearn import metrics\n",
        "print(\"Accuracy:\",metrics.accuracy_score(ytest,ypred))\n",
        "\n",
        "print(data.target_names[model.predict([[4,4,1,1]])])"
      ],
      "metadata": {
        "id": "rpAYoTTJGnTv"
      },
      "execution_count": null,
      "outputs": []
    },
    {
      "cell_type": "code",
      "source": [
        "from sklearn.tree import export_graphviz\n",
        "from six import StringIO\n",
        "from IPython.display import Image\n",
        "import pydotplus\n",
        "\n",
        "dot_data = StringIO()\n",
        "export_graphviz(model.estimators_[15],out_file='tree.dot',feature_names=data.feature_names,class_names=data.target_names,rounded = True,proportion=False,precision=4,filled=True)\n",
        "graph = pydotplus.graph_from_dot_data(dot_data.getvalue())\n",
        "graph.write_png('tree.png')\n",
        "Image(graph.create_png())"
      ],
      "metadata": {
        "id": "DTFZgHGdG8y4"
      },
      "execution_count": null,
      "outputs": []
    },
    {
      "cell_type": "code",
      "source": [
        "#program 6\n",
        "import numpy as np\n",
        "import matplotlib.pyplot as plt\n",
        "from sklearn import svm\n",
        "\n",
        "x=df.iloc[:,:2].values\n",
        "y=df.iloc[:,-1].values\n",
        "\n",
        "model = svm.SVC(kernel='linear',C=1).fit(x,y)\n",
        "\n",
        "xmin,xmax = x[:,0].min()-1,x[:,0].max()+1\n",
        "ymin,ymax = x[:,1].min()-1,x[:,1].max()+1\n",
        "h=(xmax/xmin)/100\n",
        "\n",
        "xx,yy = np.meshgrid(np.arange(xmin,xmax,h),np.arange(ymin,ymax,h))\n",
        "\n",
        "z=model.predict(np.c_[xx.ravel(),yy.ravel()]).reshape(xx.shape)\n",
        "\n",
        "plt.contourf(xx,yy,z,cmap=plt.cm.Paired,alpha=0.4)\n",
        "plt.scatter(x[:,0],x[:,1],c=y,cmap=plt.cm.Paired)\n",
        "plt.xlabel('sepal length')\n",
        "plt.ylabel('sepal width')\n",
        "plt.title(' svc with linear kernel')\n",
        "plt.show()"
      ],
      "metadata": {
        "id": "F2pK8kx_QuA3"
      },
      "execution_count": null,
      "outputs": []
    },
    {
      "cell_type": "code",
      "source": [
        "#program 7\n",
        "import numpy as np\n",
        "import pandas as pd\n",
        "\n",
        "x=df.iloc[:,:-1].values\n",
        "y=df.Class.values\n",
        "\n",
        "from sklearn.model_selection import train_test_split\n",
        "xtrain,xtest,ytrain,ytest = train_test_split(x,y,test_size=0.2)\n",
        "\n",
        "from sklearn.neighbors import KNeighborsClassifier\n",
        "model=KNeighborsClassifier(n_neighbors=3).fit(xtrain,ytrain)\n",
        "\n",
        "print(np.column_stack((ytest,model.predict(xtest))))\n",
        "\n",
        "from sklearn import metrics\n",
        "print(\"Accuracy\",metrics.accuracy_score(ytrain,model.predict(xtrain)))\n",
        "print(\"Accuracy\",metrics.accuracy_score(ytest,model.predict(xtest)))\n",
        "print(\"confusion matrix\",metrics.confusion_matrix(ytrain,model.predict(xtrain)))\n",
        "print(\"confusion matrix\",metrics.confusion_matrix(ytest,model.predict(xtest)))"
      ],
      "metadata": {
        "id": "dMQ1LV1JRN7x"
      },
      "execution_count": null,
      "outputs": []
    },
    {
      "cell_type": "code",
      "source": [
        "\n"
      ],
      "metadata": {
        "colab": {
          "base_uri": "https://localhost:8080/"
        },
        "id": "RvCx7PxHXg5a",
        "outputId": "12f0bf34-3591-495c-b3a0-d41f59d9b00c"
      },
      "execution_count": null,
      "outputs": [
        {
          "output_type": "stream",
          "name": "stdout",
          "text": [
            "Accuracy 0.9583333333333334\n",
            "Accuracy 0.9666666666666667\n",
            "confusion matrix [[39  0  0]\n",
            " [ 0 40  2]\n",
            " [ 0  3 36]]\n",
            "confusion matrix [[11  0  0]\n",
            " [ 0  7  1]\n",
            " [ 0  0 11]]\n"
          ]
        }
      ]
    }
  ]
}